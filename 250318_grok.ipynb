{
  "nbformat": 4,
  "nbformat_minor": 0,
  "metadata": {
    "colab": {
      "provenance": [],
      "authorship_tag": "ABX9TyMMowXgMQ/EI8RdjRj1Lx+t",
      "include_colab_link": true
    },
    "kernelspec": {
      "name": "python3",
      "display_name": "Python 3"
    },
    "language_info": {
      "name": "python"
    }
  },
  "cells": [
    {
      "cell_type": "markdown",
      "metadata": {
        "id": "view-in-github",
        "colab_type": "text"
      },
      "source": [
        "<a href=\"https://colab.research.google.com/github/B-ROSE-JM/JANGMI_PUB/blob/main/250318_grok.ipynb\" target=\"_parent\"><img src=\"https://colab.research.google.com/assets/colab-badge.svg\" alt=\"Open In Colab\"/></a>"
      ]
    },
    {
      "cell_type": "code",
      "execution_count": null,
      "metadata": {
        "id": "JK9BM1T8e6Jo"
      },
      "outputs": [],
      "source": []
    },
    {
      "cell_type": "markdown",
      "source": [
        "\n",
        "### 주요 요약\n",
        "\n",
        "- LFP 소성에 RK(회전로)를 사용하는 기업으로는 IBU-tec이 확인되었으며, 고객사는 BYD와 CATL일 가능성이 높습니다.\n",
        "- NCM 소성에 RK를 사용하는 기업으로는 BASF, Umicore, LG Chem, SK Innovation, Sumitomo Metal Mining 등이 있을 수 있으며, 고객사는 Huawei, Xiaomi, Apple에 배터리를 공급하는 제조업체일 가능성이 있습니다.\n",
        "- 정확한 고객사 정보는 공개되지 않았으며, 일부 정보는 추정에 기반합니다.\n",
        "\n",
        "### LFP 소성에 RK를 사용하는 기업\n",
        "\n",
        "IBU-tec은 LFP(리튬 철 인산염) 소성 과정에서 회전로를 사용하는 것으로 확인되었습니다. 이 회사는 배터리 제조업체인 BYD와 CATL에 공급할 가능성이 높습니다. 이는 이들 회사가 LFP 배터리를 주요 제품으로 사용하기 때문입니다.\n",
        "\n",
        "### NCM 소성에 RK를 사용하는 기업\n",
        "\n",
        "NCM(니켈-코발트-망간 산화물) 소성에 회전로를 사용하는 기업으로는 BASF, Umicore, LG Chem, SK Innovation, Sumitomo Metal Mining 등이 있을 수 있습니다. 이들 회사는 배터리 제조업체에 NCM 소재를 공급하며, 해당 배터리 제조업체는 Huawei, Xiaomi, Apple과 같은 스마트폰 제조업체에 배터리를 제공할 가능성이 있습니다. 그러나 정확한 생산 장비와 고객사는 공개되지 않아 추정에 의존해야 합니다.\n",
        "\n",
        "---\n",
        "\n",
        "### 조사 보고서\n",
        "\n",
        "이 보고서는 양극재 생산 기업 중 소성 과정에서 RK(회전로)를 사용하는 기업을 조사한 결과입니다. 특히 LFP(리튬 철 인산염)와 NCM(니켈-코발트-망간 산화물) 소성에 RK를 사용하는 기업과 그 고객사를 중심으로 분석하였으며, BYD, CATL(각각 LFP), Huawei, Xiaomi, Apple(각각 NCM 관련 고객사로 추정)과 연관성을 검토하였습니다. 아래는 상세 조사 내용입니다.\n",
        "\n",
        "#### LFP 소성에 RK를 사용하는 기업\n",
        "\n",
        "LFP는 리튬 이온 배터리의 주요 양극재 중 하나로, 안전성과 긴 수명으로 알려져 있습니다. 소성 과정은 고온에서 소재를 열처리하여 결정 구조를 형성하는 단계로, 회전로는 이러한 소성에 자주 사용되는 장비입니다. 조사 결과, IBU-tec advanced materials AG는 LFP 생산 과정에서 회전로를 사용하는 것으로 확인되었습니다 ([Lithium Iron Phosphate – IBUvolt® LFP | IBU-tec](https://www.ibu-tec.com/products/lithium-iron-phosphate-lfp/)). 이 회사는 Weimar, Germany에 기반을 두고 있으며, LFP 소재를 배터리 제조업체에 공급하며, 고객사로는 BYD와 CATL이 포함될 가능성이 높습니다. 이는 BYD와 CATL이 LFP 배터리를 주요 제품으로 사용하는 점을 고려할 때 합리적인 추정입니다.\n",
        "\n",
        "다른 주요 LFP 생산 기업으로는 Yuneng, Himadri, TOB New Energy 등이 있습니다. 그러나 이들 회사의 생산 과정에서 회전로 사용 여부는 명확히 확인되지 않았습니다. 예를 들어, Yuneng은 중국에서 큰 LFP 생산 능력을 보유하고 있지만, 공식 웹사이트([www.yuneng.com](https://www.yuneng.com/))에서 회전로 관련 정보는 찾을 수 없었습니다. Himadri와 TOB New Energy도 마찬가지로 회전로 사용을 명시하지 않았습니다 ([Himadri’s LFP offers](https://www.himadri.com/LEP_Cathode_Materials.php), [TOB New Energy](https://www.amoytob.com/)).\n",
        "\n",
        "LFP 생산 과정은 일반적으로 고온 고체상 반응법을 포함하며, 소성은 회전로, 롤러 화로, 푸셔 화로 등 다양한 장비로 수행될 수 있습니다. IBU-tec의 경우, 회전로를 사용한 소성 후 분쇄 과정을 거쳐 최종 LFP 소재를 생산하며, 이는 대규모 생산에 적합한 방법으로 보입니다.\n",
        "\n",
        "#### NCM 소성에 RK를 사용하는 기업\n",
        "\n",
        "NCM은 고에너지 밀도와 높은 작동 전압으로 전기차 및 스마트폰 배터리에 널리 사용되는 양극재입니다. 소성 과정은 NCM의 결정 구조 형성에 필수적이며, 회전로가 이러한 소성에 사용될 가능성이 있습니다. 그러나 특정 기업이 회전로를 사용하는지에 대한 명확한 정보는 제한적이었습니다.\n",
        "\n",
        "조사 결과, 주요 NCM 생산 기업으로는 BASF, Umicore, LG Chem, SK Innovation, Sumitomo Metal Mining, Mitsui Mining & Smelting, Toda Kogyo, Hunan Huayu, Ningbo Shanshan, Shenzhen BTR 등이 있습니다. 이들 기업은 NCM 소재를 배터리 제조업체에 공급하며, 해당 배터리 제조업체는 Huawei, Xiaomi, Apple과 같은 스마트폰 제조업체에 배터리를 제공할 가능성이 있습니다. 예를 들어, LG Chem은 LG Energy Solution을 통해 배터리를 공급하며, 이 배터리는 다양한 스마트폰 제조업체에 사용될 수 있습니다.\n",
        "\n",
        "회전로 사용 여부와 관련하여, AGICO와 같은 회사는 리튬 배터리 소재 소성용 회전로를 제조하며, NCM과 같은 3원 소재 소성에 적합하다고 명시하고 있습니다 ([Rotary Kiln For Lithium Battery Material Preparation | 100kg/h~1000kg/h](https://rotarykilnsupplier.com/rotary-kiln-for-sale/rotary-kiln-for-lithium-battery-material-preparation/)). 그러나 AGICO는 장비 제조업체로, NCM을 직접 생산하는 기업은 아닙니다. 따라서 이들 기업이 AGICO의 회전로를 사용하는지 확인하려면 추가 정보가 필요합니다.\n",
        "\n",
        "ONEJOON Kilns & Furnaces와 같은 회사는 NCM622 및 NCM811 생산 라인에 회전로를 포함한 다양한 소성 장비를 제공한다고 밝혔으며, 이는 NCM 생산에 회전로가 사용될 수 있음을 시사합니다 ([Furnaces and process equipment for Cathode Active Material production | ONEJOON Kilns & Furnaces](https://www.onejoon.de/en/markets-materials/battery-materials/equipment-and-systems-for-battery-powder-production/)). 그러나 특정 NCM 생산 기업이 회전로를 사용하는지에 대한 명확한 고객사 정보는 공개되지 않았습니다.\n",
        "\n",
        "NCM 생산 과정은 배합, 혼합, 건조, 소성, 분쇄, 선별 등의 단계를 포함하며, 소성은 일반적으로 700~1000°C의 고온에서 이루어집니다. 회전로는 이러한 고온 환경에서 균일한 열처리를 제공할 수 있어 적합하며, 특히 대규모 생산에 유리합니다. 그러나 BASF, Umicore와 같은 기업의 공식 웹사이트([BASF Battery Materials](https://battery-materials.basf.com/), [Umicore](https://www.umicore.com/))에서는 소성 장비에 대한 구체적인 정보가 제공되지 않았습니다.\n",
        "\n",
        "#### 고객사와의 연관성\n",
        "\n",
        "LFP의 경우, IBU-tec은 배터리 제조업체에 공급하며, BYD와 CATL이 주요 고객일 가능성이 높습니다. 이는 이들 회사가 LFP 배터리를 대량으로 사용하는 점을 고려할 때 합리적입니다. 그러나 IBU-tec의 공식 발표에서는 고객사 명이 공개되지 않았으며, 이는 산업 비밀 보호와 관련이 있을 수 있습니다 ([IBU-Tec secures another major customer for LFP materials](https://www.electrive.com/2023/04/04/ibu-tec-secures-another-major-customer-for-lfp-materials/)).\n",
        "\n",
        "NCM의 경우, BASF, Umicore 등은 배터리 제조업체에 NCM 소재를 공급하며, 이 배터리 제조업체는 Huawei, Xiaomi, Apple과 같은 스마트폰 제조업체에 배터리를 제공할 가능성이 있습니다. 예를 들어, LG Chem은 LG Energy Solution을 통해 배터리를 공급하며, 이 배터리는 다양한 스마트폰 제조업체에 사용될 수 있습니다. 그러나 정확한 공급망 정보는 공개되지 않아 추정에 의존해야 합니다.\n",
        "\n",
        "#### 추가 고려사항\n",
        "\n",
        "이 조사는 현재 공개된 정보에 기반하며, 일부 정보는 추정에 의존합니다. 회전로 사용 여부와 고객사 정보는 기업마다 비공개로 관리되는 경우가 많아, 더 정확한 정보를 얻으려면 기업의 공식 보고서나 산업 보고서를 추가로 검토해야 합니다. 또한, LFP와 NCM 생산 과정에서 회전로 외에도 롤러 화로, 푸셔 화로 등 다양한 소성 장비가 사용될 수 있으며, 이는 생산 규모와 소재 특성에 따라 달라질 수 있습니다.\n",
        "\n",
        "#### 표: 주요 기업 및 소성 장비 추정\n",
        "\n",
        "| 기업명         | LFP 생산 | NCM 생산 | 회전로 사용 여부 | 주요 고객사 추정       |\n",
        "|---------------|----------|----------|------------------|-----------------------|\n",
        "| IBU-tec       | O        | X        | O                | BYD, CATL            |\n",
        "| BASF          | X        | O        | 추정             | 배터리 제조업체 (Huawei, Xiaomi, Apple 관련) |\n",
        "| Umicore       | X        | O        | 추정             | 배터리 제조업체 (Huawei, Xiaomi, Apple 관련) |\n",
        "| LG Chem       | X        | O        | 추정             | 배터리 제조업체 (Huawei, Xiaomi, Apple 관련) |\n",
        "| Yuneng        | O        | X        | 미확인           | BYD, CATL            |\n",
        "| Himadri       | O        | X        | 미확인           | BYD, CATL            |\n",
        "\n",
        "#### 결론\n",
        "\n",
        "LFP 소성에 RK를 사용하는 기업으로는 IBU-tec이 확인되었으며, 고객사는 BYD와 CATL일 가능성이 높습니다. NCM 소성에 RK를 사용하는 기업으로는 BASF, Umicore, LG Chem 등이 추정되며, 고객사는 Huawei, Xiaomi, Apple에 배터리를 공급하는 제조업체일 가능성이 있습니다. 그러나 정확한 정보는 제한적이며, 추가 조사 필요성이 있습니다.\n",
        "\n",
        "### 주요 인용\n",
        "\n",
        "- [Lithium Iron Phosphate – IBUvolt® LFP | IBU-tec](https://www.ibu-tec.com/products/lithium-iron-phosphate-lfp/)\n",
        "- [Rotary Kiln For Lithium Battery Material Preparation | 100kg/h~1000kg/h](https://rotarykilnsupplier.com/rotary-kiln-for-sale/rotary-kiln-for-lithium-battery-material-preparation/)\n",
        "- [Furnaces and process equipment for Cathode Active Material production | ONEJOON Kilns & Furnaces](https://www.onejoon.de/en/markets-materials/battery-materials/equipment-and-systems-for-battery-powder-production/)\n",
        "- [BASF Battery Materials](https://battery-materials.basf.com/)\n",
        "- [Umicore](https://www.umicore.com/)\n",
        "- [IBU-Tec secures another major customer for LFP materials](https://www.electrive.com/2023/04/04/ibu-tec-secures-another-major-customer-for-lfp-materials/)\n",
        "- [Himadri’s LFP offers](https://www.himadri.com/LEP_Cathode_Materials.php)\n",
        "- [TOB New Energy](https://www.amoytob.com/)"
      ],
      "metadata": {
        "id": "WBtFCWcQe7lb"
      }
    },
    {
      "cell_type": "code",
      "source": [],
      "metadata": {
        "id": "IMIXGXtIfGzG"
      },
      "execution_count": null,
      "outputs": []
    },
    {
      "cell_type": "code",
      "source": [],
      "metadata": {
        "id": "d7h4EDOnfHA1"
      },
      "execution_count": null,
      "outputs": []
    }
  ]
}